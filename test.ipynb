{
 "cells": [
  {
   "cell_type": "code",
   "execution_count": 107,
   "id": "524587a1-1453-4d55-8551-e5eea4197985",
   "metadata": {
    "tags": []
   },
   "outputs": [],
   "source": [
    "import torch\n",
    "import torchvision\n",
    "import torchvision.transforms as transforms\n",
    "from torch.utils.data import Dataset\n",
    "from torch.utils.data import Subset\n",
    "from torch.utils.data import random_split\n",
    "from torch.utils.data import ConcatDataset\n",
    "from torchvision.transforms import AutoAugment, AutoAugmentPolicy\n",
    "from torchvision.datasets import ImageFolder\n",
    "from PIL import Image\n",
    "import numpy as np\n",
    "import torchvision.models as models\n",
    "import torch.nn as nn\n",
    "import torch.nn.functional as F\n",
    "\n",
    "test_file = 'data_train.npy'\n",
    "labels_file = 'labels_train.npy'\n"
   ]
  },
  {
   "cell_type": "code",
   "execution_count": 108,
   "id": "911c6180-add1-49f3-a2e2-e11fe5b1c281",
   "metadata": {
    "tags": []
   },
   "outputs": [],
   "source": [
    "class MathSymbols(Dataset):\n",
    "    def __init__(self, data_file, data_transform=None, label_transform=None):\n",
    "        '''\n",
    "        data_file: Data file for training the model (should be .npy file)\n",
    "        labels_file: Target labels (should be .npy file)   \n",
    "        '''\n",
    "        # Load data \n",
    "        self.data = np.load(data_file)\n",
    "        #self.labels = np.load(labels_file)\n",
    "        self.data_transform = data_transform\n",
    "        #self.label_transform = label_transform\n",
    "        \n",
    "        # Reshape data\n",
    "        self.data = np.reshape(np.transpose(self.data), (np.shape(self.data)[1], 100, 100))\n",
    "\n",
    "        # Convert the images to have 3 channels so it will function with pretrained models\n",
    "        self.data = self.convert_to_rgb(self.data)\n",
    "\n",
    "    def __len__(self):\n",
    "        # Length of data (and labels) array\n",
    "        return len(self.data)\n",
    "\n",
    "    def __getitem__(self, idx):\n",
    "        # Fetch the dataset item\n",
    "        sample = self.data[idx]\n",
    "        #label = self.labels[idx]\n",
    "        sample = Image.fromarray(sample)  # Convert numpy array to PIL Image\n",
    "        \n",
    "        if self.data_transform:\n",
    "            # Transform the data\n",
    "            sample = self.data_transform(sample)\n",
    "        \n",
    "       # if self.label_transform:\n",
    "            # Transform the label\n",
    "        #    label = self.label_transform(label)\n",
    "        \n",
    "        # Convert sample and label to tensor\n",
    "        #label = torch.tensor(label, dtype=torch.long)\n",
    "        \n",
    "        return sample\n",
    "\n",
    "    def convert_to_rgb(self, grayscale_images):\n",
    "        # Add first input channel\n",
    "        grayscale_images = np.expand_dims(grayscale_images, -1)\n",
    "        # Change to 3 input channels to match with pretrained models\n",
    "        rgb_images = grayscale_images.repeat(3, axis=-1)\n",
    "        return rgb_images\n",
    "    \n",
    "    \n",
    "    \n",
    "class TransformSubset(torch.utils.data.Dataset):\n",
    "    def __init__(self, subset, transform=None):\n",
    "        self.subset = subset\n",
    "        self.transform = transform\n",
    "\n",
    "    def __getitem__(self, index):\n",
    "        x = self.subset[index]\n",
    "        if self.transform:\n",
    "            x = self.transform(x)\n",
    "        return x\n",
    "\n",
    "    def __len__(self):\n",
    "        return len(self.subset)\n",
    "    \n",
    "    \n",
    "def Test(X):\n",
    "    \n",
    "    num_classes = 10 \n",
    "    \n",
    "    transform = transforms.Compose(\n",
    "        [transforms.ToTensor(),\n",
    "         transforms.Normalize(0.5, 0.5)])\n",
    "\n",
    "    batch_size = 8\n",
    "\n",
    "    test_set = MathSymbols(data_file = X)\n",
    "\n",
    "    # Apply transformations using the wrapper class\n",
    "    test = TransformSubset(test_set, transform=transform)\n",
    "\n",
    "\n",
    "    # Test set\n",
    "    testloader = torch.utils.data.DataLoader(test, batch_size=batch_size,\n",
    "                                            shuffle=False, num_workers=2)\n",
    "    \n",
    "    net = models.resnet50(pretrained=True)\n",
    "    net.fc = nn.Linear(net.fc.in_features, num_classes) \n",
    "\n",
    "    # Load the saved state dictionary into the model\n",
    "    net.load_state_dict(torch.load('Best_Model.pth'))\n",
    "    \n",
    "    predictions = np.array([])\n",
    "    \n",
    "    # since we're not training, we don't need to calculate the gradients for our outputs\n",
    "    with torch.no_grad():\n",
    "        for data in testloader:\n",
    "            images = data\n",
    "            # calculate outputs by running images through the network\n",
    "            outputs = net(images) \n",
    "            _, predicted = torch.max(outputs.data, 1)\n",
    "            \n",
    "            predictions = np.append(predictions, predicted)\n",
    "        \n",
    "           \n",
    "    return predictions\n"
   ]
  },
  {
   "cell_type": "code",
   "execution_count": 109,
   "id": "f15374d2-9db2-42e9-bcef-45026850b74e",
   "metadata": {
    "tags": []
   },
   "outputs": [],
   "source": [
    "Y = Test(X = test_file)"
   ]
  },
  {
   "cell_type": "code",
   "execution_count": 110,
   "id": "9035b632-f5c9-4dcb-b414-77a80dbe6c3b",
   "metadata": {
    "tags": []
   },
   "outputs": [
    {
     "name": "stdout",
     "output_type": "stream",
     "text": [
      "Accuracy is: 98 %\n"
     ]
    }
   ],
   "source": [
    "correct = 0\n",
    "total = 0\n",
    "\n",
    "num_classes = 10 \n",
    "\n",
    "labels = np.load(labels_file)\n",
    "\n",
    "total = labels.size\n",
    "\n",
    "for i in range(total):\n",
    "    \n",
    "    if (labels[i] == Y[i]):\n",
    "        correct += 1\n",
    "    \n",
    "\n",
    "print(f'Accuracy is: {100 * correct // total} %')"
   ]
  },
  {
   "cell_type": "code",
   "execution_count": null,
   "id": "6e009a69-74b8-4ffc-a3eb-bead12bc3b69",
   "metadata": {},
   "outputs": [],
   "source": []
  }
 ],
 "metadata": {
  "kernelspec": {
   "display_name": "PyTorch-2.2.0",
   "language": "python",
   "name": "pytorch-2.2.0"
  },
  "language_info": {
   "codemirror_mode": {
    "name": "ipython",
    "version": 3
   },
   "file_extension": ".py",
   "mimetype": "text/x-python",
   "name": "python",
   "nbconvert_exporter": "python",
   "pygments_lexer": "ipython3",
   "version": "3.10.13"
  }
 },
 "nbformat": 4,
 "nbformat_minor": 5
}
